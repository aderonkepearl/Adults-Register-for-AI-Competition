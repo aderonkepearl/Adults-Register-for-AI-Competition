{
 "cells": [
  {
   "cell_type": "code",
   "execution_count": 3,
   "id": "59b5b709",
   "metadata": {},
   "outputs": [],
   "source": [
    "import pandas as pd\n",
    "import numpy as np\n",
    "import matplotlib.pyplot as plt\n",
    "import seaborn as sns"
   ]
  },
  {
   "cell_type": "markdown",
   "id": "008e9650",
   "metadata": {},
   "source": [
    "## Load Data"
   ]
  },
  {
   "cell_type": "code",
   "execution_count": 4,
   "id": "3506938a",
   "metadata": {},
   "outputs": [
    {
     "data": {
      "text/html": [
       "<div>\n",
       "<style scoped>\n",
       "    .dataframe tbody tr th:only-of-type {\n",
       "        vertical-align: middle;\n",
       "    }\n",
       "\n",
       "    .dataframe tbody tr th {\n",
       "        vertical-align: top;\n",
       "    }\n",
       "\n",
       "    .dataframe thead th {\n",
       "        text-align: right;\n",
       "    }\n",
       "</style>\n",
       "<table border=\"1\" class=\"dataframe\">\n",
       "  <thead>\n",
       "    <tr style=\"text-align: right;\">\n",
       "      <th></th>\n",
       "      <th>adult/id</th>\n",
       "      <th>adult_ticket_order_number</th>\n",
       "      <th>type_of_ticket</th>\n",
       "      <th>amount</th>\n",
       "      <th>attended</th>\n",
       "      <th>isOwner</th>\n",
       "      <th>adult/children_no</th>\n",
       "      <th>adult/createdAt</th>\n",
       "      <th>adult/updatedAt</th>\n",
       "    </tr>\n",
       "  </thead>\n",
       "  <tbody>\n",
       "    <tr>\n",
       "      <th>0</th>\n",
       "      <td>490e48f1-2251-490d-b522-5a71a6a33f83</td>\n",
       "      <td>SF/ORNo/LFM31</td>\n",
       "      <td>group</td>\n",
       "      <td>2500</td>\n",
       "      <td>False</td>\n",
       "      <td>False</td>\n",
       "      <td>NaN</td>\n",
       "      <td>2023-07-20T14:46:59.000Z</td>\n",
       "      <td>2023-07-20T14:46:59.000Z</td>\n",
       "    </tr>\n",
       "    <tr>\n",
       "      <th>1</th>\n",
       "      <td>18ca177e-bd62-42b7-bb56-3d53c439e9a5</td>\n",
       "      <td>SF/ORNo/L5CYN</td>\n",
       "      <td>individual</td>\n",
       "      <td>3000</td>\n",
       "      <td>False</td>\n",
       "      <td>False</td>\n",
       "      <td>NaN</td>\n",
       "      <td>2023-07-21T18:40:23.000Z</td>\n",
       "      <td>2023-07-21T18:40:23.000Z</td>\n",
       "    </tr>\n",
       "    <tr>\n",
       "      <th>2</th>\n",
       "      <td>d2b1484d-6c51-4065-bc5f-d41935bde7fa</td>\n",
       "      <td>SFF/ORNo/00115</td>\n",
       "      <td>group</td>\n",
       "      <td>2500</td>\n",
       "      <td>False</td>\n",
       "      <td>True</td>\n",
       "      <td>4.0</td>\n",
       "      <td>2023-07-14T12:34:50.000Z</td>\n",
       "      <td>2023-07-20T20:44:32.000Z</td>\n",
       "    </tr>\n",
       "    <tr>\n",
       "      <th>3</th>\n",
       "      <td>a222eda3-519f-4803-924d-4c1727328ef8</td>\n",
       "      <td>SF/ORNo/MFOLO</td>\n",
       "      <td>group</td>\n",
       "      <td>2500</td>\n",
       "      <td>False</td>\n",
       "      <td>False</td>\n",
       "      <td>NaN</td>\n",
       "      <td>2023-07-20T18:28:22.000Z</td>\n",
       "      <td>2023-07-20T18:30:29.000Z</td>\n",
       "    </tr>\n",
       "    <tr>\n",
       "      <th>4</th>\n",
       "      <td>204d7685-c1f8-450b-a484-4d6e83201202</td>\n",
       "      <td>SF/ORNo/MPGO8</td>\n",
       "      <td>group</td>\n",
       "      <td>2500</td>\n",
       "      <td>False</td>\n",
       "      <td>False</td>\n",
       "      <td>NaN</td>\n",
       "      <td>2023-07-21T13:20:20.000Z</td>\n",
       "      <td>2023-07-21T20:58:49.000Z</td>\n",
       "    </tr>\n",
       "    <tr>\n",
       "      <th>...</th>\n",
       "      <td>...</td>\n",
       "      <td>...</td>\n",
       "      <td>...</td>\n",
       "      <td>...</td>\n",
       "      <td>...</td>\n",
       "      <td>...</td>\n",
       "      <td>...</td>\n",
       "      <td>...</td>\n",
       "      <td>...</td>\n",
       "    </tr>\n",
       "    <tr>\n",
       "      <th>595</th>\n",
       "      <td>06ed2557-7e25-4a7c-a536-3007438aea48</td>\n",
       "      <td>SFF/ORNo/00535</td>\n",
       "      <td>group</td>\n",
       "      <td>2000</td>\n",
       "      <td>False</td>\n",
       "      <td>True</td>\n",
       "      <td>1.0</td>\n",
       "      <td>2023-07-20T19:00:02.000Z</td>\n",
       "      <td>2023-07-20T19:32:20.000Z</td>\n",
       "    </tr>\n",
       "    <tr>\n",
       "      <th>596</th>\n",
       "      <td>4336c952-c90d-47ed-880b-072f95f62e2c</td>\n",
       "      <td>SFF/ORNo/00271</td>\n",
       "      <td>group</td>\n",
       "      <td>2000</td>\n",
       "      <td>True</td>\n",
       "      <td>True</td>\n",
       "      <td>4.0</td>\n",
       "      <td>2023-07-20T19:00:05.000Z</td>\n",
       "      <td>2023-07-22T09:59:58.000Z</td>\n",
       "    </tr>\n",
       "    <tr>\n",
       "      <th>597</th>\n",
       "      <td>ae9f63b5-bb4a-4660-8345-4a2cbbbd4775</td>\n",
       "      <td>SFF/ORNo/00163</td>\n",
       "      <td>group</td>\n",
       "      <td>2500</td>\n",
       "      <td>True</td>\n",
       "      <td>False</td>\n",
       "      <td>0.0</td>\n",
       "      <td>2023-07-15T17:26:53.000Z</td>\n",
       "      <td>2023-07-15T17:26:53.000Z</td>\n",
       "    </tr>\n",
       "    <tr>\n",
       "      <th>598</th>\n",
       "      <td>bbc46dc5-9f2f-4ed4-8fd9-ff2ebab650a5</td>\n",
       "      <td>SF/ORNo/AZFR6</td>\n",
       "      <td>group</td>\n",
       "      <td>2500</td>\n",
       "      <td>False</td>\n",
       "      <td>False</td>\n",
       "      <td>NaN</td>\n",
       "      <td>2023-07-20T21:06:40.000Z</td>\n",
       "      <td>2023-07-20T21:09:59.000Z</td>\n",
       "    </tr>\n",
       "    <tr>\n",
       "      <th>599</th>\n",
       "      <td>873098af-fefd-4380-b6b6-fb94f13cd6dc</td>\n",
       "      <td>SF/ORNo/LKQL9</td>\n",
       "      <td>group</td>\n",
       "      <td>2500</td>\n",
       "      <td>False</td>\n",
       "      <td>False</td>\n",
       "      <td>NaN</td>\n",
       "      <td>2023-07-21T14:30:24.000Z</td>\n",
       "      <td>2023-07-21T15:40:44.000Z</td>\n",
       "    </tr>\n",
       "  </tbody>\n",
       "</table>\n",
       "<p>600 rows × 9 columns</p>\n",
       "</div>"
      ],
      "text/plain": [
       "                                 adult/id adult_ticket_order_number  \\\n",
       "0    490e48f1-2251-490d-b522-5a71a6a33f83             SF/ORNo/LFM31   \n",
       "1    18ca177e-bd62-42b7-bb56-3d53c439e9a5             SF/ORNo/L5CYN   \n",
       "2    d2b1484d-6c51-4065-bc5f-d41935bde7fa            SFF/ORNo/00115   \n",
       "3    a222eda3-519f-4803-924d-4c1727328ef8             SF/ORNo/MFOLO   \n",
       "4    204d7685-c1f8-450b-a484-4d6e83201202             SF/ORNo/MPGO8   \n",
       "..                                    ...                       ...   \n",
       "595  06ed2557-7e25-4a7c-a536-3007438aea48            SFF/ORNo/00535   \n",
       "596  4336c952-c90d-47ed-880b-072f95f62e2c            SFF/ORNo/00271   \n",
       "597  ae9f63b5-bb4a-4660-8345-4a2cbbbd4775            SFF/ORNo/00163   \n",
       "598  bbc46dc5-9f2f-4ed4-8fd9-ff2ebab650a5             SF/ORNo/AZFR6   \n",
       "599  873098af-fefd-4380-b6b6-fb94f13cd6dc             SF/ORNo/LKQL9   \n",
       "\n",
       "    type_of_ticket  amount  attended  isOwner  adult/children_no  \\\n",
       "0            group    2500     False    False                NaN   \n",
       "1       individual    3000     False    False                NaN   \n",
       "2            group    2500     False     True                4.0   \n",
       "3            group    2500     False    False                NaN   \n",
       "4            group    2500     False    False                NaN   \n",
       "..             ...     ...       ...      ...                ...   \n",
       "595          group    2000     False     True                1.0   \n",
       "596          group    2000      True     True                4.0   \n",
       "597          group    2500      True    False                0.0   \n",
       "598          group    2500     False    False                NaN   \n",
       "599          group    2500     False    False                NaN   \n",
       "\n",
       "              adult/createdAt           adult/updatedAt  \n",
       "0    2023-07-20T14:46:59.000Z  2023-07-20T14:46:59.000Z  \n",
       "1    2023-07-21T18:40:23.000Z  2023-07-21T18:40:23.000Z  \n",
       "2    2023-07-14T12:34:50.000Z  2023-07-20T20:44:32.000Z  \n",
       "3    2023-07-20T18:28:22.000Z  2023-07-20T18:30:29.000Z  \n",
       "4    2023-07-21T13:20:20.000Z  2023-07-21T20:58:49.000Z  \n",
       "..                        ...                       ...  \n",
       "595  2023-07-20T19:00:02.000Z  2023-07-20T19:32:20.000Z  \n",
       "596  2023-07-20T19:00:05.000Z  2023-07-22T09:59:58.000Z  \n",
       "597  2023-07-15T17:26:53.000Z  2023-07-15T17:26:53.000Z  \n",
       "598  2023-07-20T21:06:40.000Z  2023-07-20T21:09:59.000Z  \n",
       "599  2023-07-21T14:30:24.000Z  2023-07-21T15:40:44.000Z  \n",
       "\n",
       "[600 rows x 9 columns]"
      ]
     },
     "execution_count": 4,
     "metadata": {},
     "output_type": "execute_result"
    }
   ],
   "source": [
    "pd.read_csv(\"./Adults_register_for_AI_competition.csv\", delimiter=\",\")"
   ]
  },
  {
   "cell_type": "code",
   "execution_count": 5,
   "id": "369e6a36",
   "metadata": {},
   "outputs": [],
   "source": [
    "adults_df = pd.read_csv(\"./Adults_register_for_AI_competition.csv\", delimiter=\",\")"
   ]
  },
  {
   "cell_type": "code",
   "execution_count": 6,
   "id": "a2b04369",
   "metadata": {},
   "outputs": [
    {
     "data": {
      "text/html": [
       "<div>\n",
       "<style scoped>\n",
       "    .dataframe tbody tr th:only-of-type {\n",
       "        vertical-align: middle;\n",
       "    }\n",
       "\n",
       "    .dataframe tbody tr th {\n",
       "        vertical-align: top;\n",
       "    }\n",
       "\n",
       "    .dataframe thead th {\n",
       "        text-align: right;\n",
       "    }\n",
       "</style>\n",
       "<table border=\"1\" class=\"dataframe\">\n",
       "  <thead>\n",
       "    <tr style=\"text-align: right;\">\n",
       "      <th></th>\n",
       "      <th>adult/id</th>\n",
       "      <th>adult_ticket_order_number</th>\n",
       "      <th>type_of_ticket</th>\n",
       "      <th>amount</th>\n",
       "      <th>attended</th>\n",
       "      <th>isOwner</th>\n",
       "      <th>adult/children_no</th>\n",
       "      <th>adult/createdAt</th>\n",
       "      <th>adult/updatedAt</th>\n",
       "    </tr>\n",
       "  </thead>\n",
       "  <tbody>\n",
       "    <tr>\n",
       "      <th>0</th>\n",
       "      <td>490e48f1-2251-490d-b522-5a71a6a33f83</td>\n",
       "      <td>SF/ORNo/LFM31</td>\n",
       "      <td>group</td>\n",
       "      <td>2500</td>\n",
       "      <td>False</td>\n",
       "      <td>False</td>\n",
       "      <td>NaN</td>\n",
       "      <td>2023-07-20T14:46:59.000Z</td>\n",
       "      <td>2023-07-20T14:46:59.000Z</td>\n",
       "    </tr>\n",
       "    <tr>\n",
       "      <th>1</th>\n",
       "      <td>18ca177e-bd62-42b7-bb56-3d53c439e9a5</td>\n",
       "      <td>SF/ORNo/L5CYN</td>\n",
       "      <td>individual</td>\n",
       "      <td>3000</td>\n",
       "      <td>False</td>\n",
       "      <td>False</td>\n",
       "      <td>NaN</td>\n",
       "      <td>2023-07-21T18:40:23.000Z</td>\n",
       "      <td>2023-07-21T18:40:23.000Z</td>\n",
       "    </tr>\n",
       "    <tr>\n",
       "      <th>2</th>\n",
       "      <td>d2b1484d-6c51-4065-bc5f-d41935bde7fa</td>\n",
       "      <td>SFF/ORNo/00115</td>\n",
       "      <td>group</td>\n",
       "      <td>2500</td>\n",
       "      <td>False</td>\n",
       "      <td>True</td>\n",
       "      <td>4.0</td>\n",
       "      <td>2023-07-14T12:34:50.000Z</td>\n",
       "      <td>2023-07-20T20:44:32.000Z</td>\n",
       "    </tr>\n",
       "    <tr>\n",
       "      <th>3</th>\n",
       "      <td>a222eda3-519f-4803-924d-4c1727328ef8</td>\n",
       "      <td>SF/ORNo/MFOLO</td>\n",
       "      <td>group</td>\n",
       "      <td>2500</td>\n",
       "      <td>False</td>\n",
       "      <td>False</td>\n",
       "      <td>NaN</td>\n",
       "      <td>2023-07-20T18:28:22.000Z</td>\n",
       "      <td>2023-07-20T18:30:29.000Z</td>\n",
       "    </tr>\n",
       "    <tr>\n",
       "      <th>4</th>\n",
       "      <td>204d7685-c1f8-450b-a484-4d6e83201202</td>\n",
       "      <td>SF/ORNo/MPGO8</td>\n",
       "      <td>group</td>\n",
       "      <td>2500</td>\n",
       "      <td>False</td>\n",
       "      <td>False</td>\n",
       "      <td>NaN</td>\n",
       "      <td>2023-07-21T13:20:20.000Z</td>\n",
       "      <td>2023-07-21T20:58:49.000Z</td>\n",
       "    </tr>\n",
       "    <tr>\n",
       "      <th>...</th>\n",
       "      <td>...</td>\n",
       "      <td>...</td>\n",
       "      <td>...</td>\n",
       "      <td>...</td>\n",
       "      <td>...</td>\n",
       "      <td>...</td>\n",
       "      <td>...</td>\n",
       "      <td>...</td>\n",
       "      <td>...</td>\n",
       "    </tr>\n",
       "    <tr>\n",
       "      <th>595</th>\n",
       "      <td>06ed2557-7e25-4a7c-a536-3007438aea48</td>\n",
       "      <td>SFF/ORNo/00535</td>\n",
       "      <td>group</td>\n",
       "      <td>2000</td>\n",
       "      <td>False</td>\n",
       "      <td>True</td>\n",
       "      <td>1.0</td>\n",
       "      <td>2023-07-20T19:00:02.000Z</td>\n",
       "      <td>2023-07-20T19:32:20.000Z</td>\n",
       "    </tr>\n",
       "    <tr>\n",
       "      <th>596</th>\n",
       "      <td>4336c952-c90d-47ed-880b-072f95f62e2c</td>\n",
       "      <td>SFF/ORNo/00271</td>\n",
       "      <td>group</td>\n",
       "      <td>2000</td>\n",
       "      <td>True</td>\n",
       "      <td>True</td>\n",
       "      <td>4.0</td>\n",
       "      <td>2023-07-20T19:00:05.000Z</td>\n",
       "      <td>2023-07-22T09:59:58.000Z</td>\n",
       "    </tr>\n",
       "    <tr>\n",
       "      <th>597</th>\n",
       "      <td>ae9f63b5-bb4a-4660-8345-4a2cbbbd4775</td>\n",
       "      <td>SFF/ORNo/00163</td>\n",
       "      <td>group</td>\n",
       "      <td>2500</td>\n",
       "      <td>True</td>\n",
       "      <td>False</td>\n",
       "      <td>0.0</td>\n",
       "      <td>2023-07-15T17:26:53.000Z</td>\n",
       "      <td>2023-07-15T17:26:53.000Z</td>\n",
       "    </tr>\n",
       "    <tr>\n",
       "      <th>598</th>\n",
       "      <td>bbc46dc5-9f2f-4ed4-8fd9-ff2ebab650a5</td>\n",
       "      <td>SF/ORNo/AZFR6</td>\n",
       "      <td>group</td>\n",
       "      <td>2500</td>\n",
       "      <td>False</td>\n",
       "      <td>False</td>\n",
       "      <td>NaN</td>\n",
       "      <td>2023-07-20T21:06:40.000Z</td>\n",
       "      <td>2023-07-20T21:09:59.000Z</td>\n",
       "    </tr>\n",
       "    <tr>\n",
       "      <th>599</th>\n",
       "      <td>873098af-fefd-4380-b6b6-fb94f13cd6dc</td>\n",
       "      <td>SF/ORNo/LKQL9</td>\n",
       "      <td>group</td>\n",
       "      <td>2500</td>\n",
       "      <td>False</td>\n",
       "      <td>False</td>\n",
       "      <td>NaN</td>\n",
       "      <td>2023-07-21T14:30:24.000Z</td>\n",
       "      <td>2023-07-21T15:40:44.000Z</td>\n",
       "    </tr>\n",
       "  </tbody>\n",
       "</table>\n",
       "<p>600 rows × 9 columns</p>\n",
       "</div>"
      ],
      "text/plain": [
       "                                 adult/id adult_ticket_order_number  \\\n",
       "0    490e48f1-2251-490d-b522-5a71a6a33f83             SF/ORNo/LFM31   \n",
       "1    18ca177e-bd62-42b7-bb56-3d53c439e9a5             SF/ORNo/L5CYN   \n",
       "2    d2b1484d-6c51-4065-bc5f-d41935bde7fa            SFF/ORNo/00115   \n",
       "3    a222eda3-519f-4803-924d-4c1727328ef8             SF/ORNo/MFOLO   \n",
       "4    204d7685-c1f8-450b-a484-4d6e83201202             SF/ORNo/MPGO8   \n",
       "..                                    ...                       ...   \n",
       "595  06ed2557-7e25-4a7c-a536-3007438aea48            SFF/ORNo/00535   \n",
       "596  4336c952-c90d-47ed-880b-072f95f62e2c            SFF/ORNo/00271   \n",
       "597  ae9f63b5-bb4a-4660-8345-4a2cbbbd4775            SFF/ORNo/00163   \n",
       "598  bbc46dc5-9f2f-4ed4-8fd9-ff2ebab650a5             SF/ORNo/AZFR6   \n",
       "599  873098af-fefd-4380-b6b6-fb94f13cd6dc             SF/ORNo/LKQL9   \n",
       "\n",
       "    type_of_ticket  amount  attended  isOwner  adult/children_no  \\\n",
       "0            group    2500     False    False                NaN   \n",
       "1       individual    3000     False    False                NaN   \n",
       "2            group    2500     False     True                4.0   \n",
       "3            group    2500     False    False                NaN   \n",
       "4            group    2500     False    False                NaN   \n",
       "..             ...     ...       ...      ...                ...   \n",
       "595          group    2000     False     True                1.0   \n",
       "596          group    2000      True     True                4.0   \n",
       "597          group    2500      True    False                0.0   \n",
       "598          group    2500     False    False                NaN   \n",
       "599          group    2500     False    False                NaN   \n",
       "\n",
       "              adult/createdAt           adult/updatedAt  \n",
       "0    2023-07-20T14:46:59.000Z  2023-07-20T14:46:59.000Z  \n",
       "1    2023-07-21T18:40:23.000Z  2023-07-21T18:40:23.000Z  \n",
       "2    2023-07-14T12:34:50.000Z  2023-07-20T20:44:32.000Z  \n",
       "3    2023-07-20T18:28:22.000Z  2023-07-20T18:30:29.000Z  \n",
       "4    2023-07-21T13:20:20.000Z  2023-07-21T20:58:49.000Z  \n",
       "..                        ...                       ...  \n",
       "595  2023-07-20T19:00:02.000Z  2023-07-20T19:32:20.000Z  \n",
       "596  2023-07-20T19:00:05.000Z  2023-07-22T09:59:58.000Z  \n",
       "597  2023-07-15T17:26:53.000Z  2023-07-15T17:26:53.000Z  \n",
       "598  2023-07-20T21:06:40.000Z  2023-07-20T21:09:59.000Z  \n",
       "599  2023-07-21T14:30:24.000Z  2023-07-21T15:40:44.000Z  \n",
       "\n",
       "[600 rows x 9 columns]"
      ]
     },
     "execution_count": 6,
     "metadata": {},
     "output_type": "execute_result"
    }
   ],
   "source": [
    "adults_df"
   ]
  },
  {
   "cell_type": "markdown",
   "id": "e95a8646",
   "metadata": {},
   "source": [
    "## Data Inspection"
   ]
  },
  {
   "cell_type": "code",
   "execution_count": 7,
   "id": "7efeff2e",
   "metadata": {},
   "outputs": [
    {
     "data": {
      "text/plain": [
       "(600, 9)"
      ]
     },
     "execution_count": 7,
     "metadata": {},
     "output_type": "execute_result"
    }
   ],
   "source": [
    "adults_df.shape"
   ]
  },
  {
   "cell_type": "code",
   "execution_count": 8,
   "id": "e72542a7",
   "metadata": {},
   "outputs": [
    {
     "data": {
      "text/html": [
       "<div>\n",
       "<style scoped>\n",
       "    .dataframe tbody tr th:only-of-type {\n",
       "        vertical-align: middle;\n",
       "    }\n",
       "\n",
       "    .dataframe tbody tr th {\n",
       "        vertical-align: top;\n",
       "    }\n",
       "\n",
       "    .dataframe thead th {\n",
       "        text-align: right;\n",
       "    }\n",
       "</style>\n",
       "<table border=\"1\" class=\"dataframe\">\n",
       "  <thead>\n",
       "    <tr style=\"text-align: right;\">\n",
       "      <th></th>\n",
       "      <th>adult/id</th>\n",
       "      <th>adult_ticket_order_number</th>\n",
       "      <th>type_of_ticket</th>\n",
       "      <th>amount</th>\n",
       "      <th>attended</th>\n",
       "      <th>isOwner</th>\n",
       "      <th>adult/children_no</th>\n",
       "      <th>adult/createdAt</th>\n",
       "      <th>adult/updatedAt</th>\n",
       "    </tr>\n",
       "  </thead>\n",
       "  <tbody>\n",
       "    <tr>\n",
       "      <th>0</th>\n",
       "      <td>490e48f1-2251-490d-b522-5a71a6a33f83</td>\n",
       "      <td>SF/ORNo/LFM31</td>\n",
       "      <td>group</td>\n",
       "      <td>2500</td>\n",
       "      <td>False</td>\n",
       "      <td>False</td>\n",
       "      <td>NaN</td>\n",
       "      <td>2023-07-20T14:46:59.000Z</td>\n",
       "      <td>2023-07-20T14:46:59.000Z</td>\n",
       "    </tr>\n",
       "    <tr>\n",
       "      <th>1</th>\n",
       "      <td>18ca177e-bd62-42b7-bb56-3d53c439e9a5</td>\n",
       "      <td>SF/ORNo/L5CYN</td>\n",
       "      <td>individual</td>\n",
       "      <td>3000</td>\n",
       "      <td>False</td>\n",
       "      <td>False</td>\n",
       "      <td>NaN</td>\n",
       "      <td>2023-07-21T18:40:23.000Z</td>\n",
       "      <td>2023-07-21T18:40:23.000Z</td>\n",
       "    </tr>\n",
       "    <tr>\n",
       "      <th>2</th>\n",
       "      <td>d2b1484d-6c51-4065-bc5f-d41935bde7fa</td>\n",
       "      <td>SFF/ORNo/00115</td>\n",
       "      <td>group</td>\n",
       "      <td>2500</td>\n",
       "      <td>False</td>\n",
       "      <td>True</td>\n",
       "      <td>4.0</td>\n",
       "      <td>2023-07-14T12:34:50.000Z</td>\n",
       "      <td>2023-07-20T20:44:32.000Z</td>\n",
       "    </tr>\n",
       "    <tr>\n",
       "      <th>3</th>\n",
       "      <td>a222eda3-519f-4803-924d-4c1727328ef8</td>\n",
       "      <td>SF/ORNo/MFOLO</td>\n",
       "      <td>group</td>\n",
       "      <td>2500</td>\n",
       "      <td>False</td>\n",
       "      <td>False</td>\n",
       "      <td>NaN</td>\n",
       "      <td>2023-07-20T18:28:22.000Z</td>\n",
       "      <td>2023-07-20T18:30:29.000Z</td>\n",
       "    </tr>\n",
       "    <tr>\n",
       "      <th>4</th>\n",
       "      <td>204d7685-c1f8-450b-a484-4d6e83201202</td>\n",
       "      <td>SF/ORNo/MPGO8</td>\n",
       "      <td>group</td>\n",
       "      <td>2500</td>\n",
       "      <td>False</td>\n",
       "      <td>False</td>\n",
       "      <td>NaN</td>\n",
       "      <td>2023-07-21T13:20:20.000Z</td>\n",
       "      <td>2023-07-21T20:58:49.000Z</td>\n",
       "    </tr>\n",
       "  </tbody>\n",
       "</table>\n",
       "</div>"
      ],
      "text/plain": [
       "                               adult/id adult_ticket_order_number  \\\n",
       "0  490e48f1-2251-490d-b522-5a71a6a33f83             SF/ORNo/LFM31   \n",
       "1  18ca177e-bd62-42b7-bb56-3d53c439e9a5             SF/ORNo/L5CYN   \n",
       "2  d2b1484d-6c51-4065-bc5f-d41935bde7fa            SFF/ORNo/00115   \n",
       "3  a222eda3-519f-4803-924d-4c1727328ef8             SF/ORNo/MFOLO   \n",
       "4  204d7685-c1f8-450b-a484-4d6e83201202             SF/ORNo/MPGO8   \n",
       "\n",
       "  type_of_ticket  amount  attended  isOwner  adult/children_no  \\\n",
       "0          group    2500     False    False                NaN   \n",
       "1     individual    3000     False    False                NaN   \n",
       "2          group    2500     False     True                4.0   \n",
       "3          group    2500     False    False                NaN   \n",
       "4          group    2500     False    False                NaN   \n",
       "\n",
       "            adult/createdAt           adult/updatedAt  \n",
       "0  2023-07-20T14:46:59.000Z  2023-07-20T14:46:59.000Z  \n",
       "1  2023-07-21T18:40:23.000Z  2023-07-21T18:40:23.000Z  \n",
       "2  2023-07-14T12:34:50.000Z  2023-07-20T20:44:32.000Z  \n",
       "3  2023-07-20T18:28:22.000Z  2023-07-20T18:30:29.000Z  \n",
       "4  2023-07-21T13:20:20.000Z  2023-07-21T20:58:49.000Z  "
      ]
     },
     "execution_count": 8,
     "metadata": {},
     "output_type": "execute_result"
    }
   ],
   "source": [
    "adults_df.head(5)"
   ]
  },
  {
   "cell_type": "code",
   "execution_count": 9,
   "id": "ea045fd9",
   "metadata": {},
   "outputs": [
    {
     "data": {
      "text/html": [
       "<div>\n",
       "<style scoped>\n",
       "    .dataframe tbody tr th:only-of-type {\n",
       "        vertical-align: middle;\n",
       "    }\n",
       "\n",
       "    .dataframe tbody tr th {\n",
       "        vertical-align: top;\n",
       "    }\n",
       "\n",
       "    .dataframe thead th {\n",
       "        text-align: right;\n",
       "    }\n",
       "</style>\n",
       "<table border=\"1\" class=\"dataframe\">\n",
       "  <thead>\n",
       "    <tr style=\"text-align: right;\">\n",
       "      <th></th>\n",
       "      <th>adult/id</th>\n",
       "      <th>adult_ticket_order_number</th>\n",
       "      <th>type_of_ticket</th>\n",
       "      <th>amount</th>\n",
       "      <th>attended</th>\n",
       "      <th>isOwner</th>\n",
       "      <th>adult/children_no</th>\n",
       "      <th>adult/createdAt</th>\n",
       "      <th>adult/updatedAt</th>\n",
       "    </tr>\n",
       "  </thead>\n",
       "  <tbody>\n",
       "    <tr>\n",
       "      <th>595</th>\n",
       "      <td>06ed2557-7e25-4a7c-a536-3007438aea48</td>\n",
       "      <td>SFF/ORNo/00535</td>\n",
       "      <td>group</td>\n",
       "      <td>2000</td>\n",
       "      <td>False</td>\n",
       "      <td>True</td>\n",
       "      <td>1.0</td>\n",
       "      <td>2023-07-20T19:00:02.000Z</td>\n",
       "      <td>2023-07-20T19:32:20.000Z</td>\n",
       "    </tr>\n",
       "    <tr>\n",
       "      <th>596</th>\n",
       "      <td>4336c952-c90d-47ed-880b-072f95f62e2c</td>\n",
       "      <td>SFF/ORNo/00271</td>\n",
       "      <td>group</td>\n",
       "      <td>2000</td>\n",
       "      <td>True</td>\n",
       "      <td>True</td>\n",
       "      <td>4.0</td>\n",
       "      <td>2023-07-20T19:00:05.000Z</td>\n",
       "      <td>2023-07-22T09:59:58.000Z</td>\n",
       "    </tr>\n",
       "    <tr>\n",
       "      <th>597</th>\n",
       "      <td>ae9f63b5-bb4a-4660-8345-4a2cbbbd4775</td>\n",
       "      <td>SFF/ORNo/00163</td>\n",
       "      <td>group</td>\n",
       "      <td>2500</td>\n",
       "      <td>True</td>\n",
       "      <td>False</td>\n",
       "      <td>0.0</td>\n",
       "      <td>2023-07-15T17:26:53.000Z</td>\n",
       "      <td>2023-07-15T17:26:53.000Z</td>\n",
       "    </tr>\n",
       "    <tr>\n",
       "      <th>598</th>\n",
       "      <td>bbc46dc5-9f2f-4ed4-8fd9-ff2ebab650a5</td>\n",
       "      <td>SF/ORNo/AZFR6</td>\n",
       "      <td>group</td>\n",
       "      <td>2500</td>\n",
       "      <td>False</td>\n",
       "      <td>False</td>\n",
       "      <td>NaN</td>\n",
       "      <td>2023-07-20T21:06:40.000Z</td>\n",
       "      <td>2023-07-20T21:09:59.000Z</td>\n",
       "    </tr>\n",
       "    <tr>\n",
       "      <th>599</th>\n",
       "      <td>873098af-fefd-4380-b6b6-fb94f13cd6dc</td>\n",
       "      <td>SF/ORNo/LKQL9</td>\n",
       "      <td>group</td>\n",
       "      <td>2500</td>\n",
       "      <td>False</td>\n",
       "      <td>False</td>\n",
       "      <td>NaN</td>\n",
       "      <td>2023-07-21T14:30:24.000Z</td>\n",
       "      <td>2023-07-21T15:40:44.000Z</td>\n",
       "    </tr>\n",
       "  </tbody>\n",
       "</table>\n",
       "</div>"
      ],
      "text/plain": [
       "                                 adult/id adult_ticket_order_number  \\\n",
       "595  06ed2557-7e25-4a7c-a536-3007438aea48            SFF/ORNo/00535   \n",
       "596  4336c952-c90d-47ed-880b-072f95f62e2c            SFF/ORNo/00271   \n",
       "597  ae9f63b5-bb4a-4660-8345-4a2cbbbd4775            SFF/ORNo/00163   \n",
       "598  bbc46dc5-9f2f-4ed4-8fd9-ff2ebab650a5             SF/ORNo/AZFR6   \n",
       "599  873098af-fefd-4380-b6b6-fb94f13cd6dc             SF/ORNo/LKQL9   \n",
       "\n",
       "    type_of_ticket  amount  attended  isOwner  adult/children_no  \\\n",
       "595          group    2000     False     True                1.0   \n",
       "596          group    2000      True     True                4.0   \n",
       "597          group    2500      True    False                0.0   \n",
       "598          group    2500     False    False                NaN   \n",
       "599          group    2500     False    False                NaN   \n",
       "\n",
       "              adult/createdAt           adult/updatedAt  \n",
       "595  2023-07-20T19:00:02.000Z  2023-07-20T19:32:20.000Z  \n",
       "596  2023-07-20T19:00:05.000Z  2023-07-22T09:59:58.000Z  \n",
       "597  2023-07-15T17:26:53.000Z  2023-07-15T17:26:53.000Z  \n",
       "598  2023-07-20T21:06:40.000Z  2023-07-20T21:09:59.000Z  \n",
       "599  2023-07-21T14:30:24.000Z  2023-07-21T15:40:44.000Z  "
      ]
     },
     "execution_count": 9,
     "metadata": {},
     "output_type": "execute_result"
    }
   ],
   "source": [
    "adults_df.tail(5)"
   ]
  },
  {
   "cell_type": "code",
   "execution_count": 10,
   "id": "aef04232",
   "metadata": {},
   "outputs": [
    {
     "name": "stdout",
     "output_type": "stream",
     "text": [
      "<class 'pandas.core.frame.DataFrame'>\n",
      "RangeIndex: 600 entries, 0 to 599\n",
      "Data columns (total 9 columns):\n",
      " #   Column                     Non-Null Count  Dtype  \n",
      "---  ------                     --------------  -----  \n",
      " 0   adult/id                   600 non-null    object \n",
      " 1   adult_ticket_order_number  600 non-null    object \n",
      " 2   type_of_ticket             600 non-null    object \n",
      " 3   amount                     600 non-null    int64  \n",
      " 4   attended                   600 non-null    bool   \n",
      " 5   isOwner                    600 non-null    bool   \n",
      " 6   adult/children_no          350 non-null    float64\n",
      " 7   adult/createdAt            600 non-null    object \n",
      " 8   adult/updatedAt            600 non-null    object \n",
      "dtypes: bool(2), float64(1), int64(1), object(5)\n",
      "memory usage: 34.1+ KB\n"
     ]
    }
   ],
   "source": [
    "adults_df.info()"
   ]
  },
  {
   "cell_type": "code",
   "execution_count": 11,
   "id": "49a83def",
   "metadata": {},
   "outputs": [
    {
     "data": {
      "text/html": [
       "<div>\n",
       "<style scoped>\n",
       "    .dataframe tbody tr th:only-of-type {\n",
       "        vertical-align: middle;\n",
       "    }\n",
       "\n",
       "    .dataframe tbody tr th {\n",
       "        vertical-align: top;\n",
       "    }\n",
       "\n",
       "    .dataframe thead th {\n",
       "        text-align: right;\n",
       "    }\n",
       "</style>\n",
       "<table border=\"1\" class=\"dataframe\">\n",
       "  <thead>\n",
       "    <tr style=\"text-align: right;\">\n",
       "      <th></th>\n",
       "      <th>amount</th>\n",
       "      <th>adult/children_no</th>\n",
       "    </tr>\n",
       "  </thead>\n",
       "  <tbody>\n",
       "    <tr>\n",
       "      <th>count</th>\n",
       "      <td>600.000000</td>\n",
       "      <td>350.000000</td>\n",
       "    </tr>\n",
       "    <tr>\n",
       "      <th>mean</th>\n",
       "      <td>2442.500000</td>\n",
       "      <td>2.648571</td>\n",
       "    </tr>\n",
       "    <tr>\n",
       "      <th>std</th>\n",
       "      <td>380.594057</td>\n",
       "      <td>5.009382</td>\n",
       "    </tr>\n",
       "    <tr>\n",
       "      <th>min</th>\n",
       "      <td>2000.000000</td>\n",
       "      <td>0.000000</td>\n",
       "    </tr>\n",
       "    <tr>\n",
       "      <th>25%</th>\n",
       "      <td>2000.000000</td>\n",
       "      <td>0.000000</td>\n",
       "    </tr>\n",
       "    <tr>\n",
       "      <th>50%</th>\n",
       "      <td>2500.000000</td>\n",
       "      <td>2.000000</td>\n",
       "    </tr>\n",
       "    <tr>\n",
       "      <th>75%</th>\n",
       "      <td>2500.000000</td>\n",
       "      <td>3.000000</td>\n",
       "    </tr>\n",
       "    <tr>\n",
       "      <th>max</th>\n",
       "      <td>3000.000000</td>\n",
       "      <td>50.000000</td>\n",
       "    </tr>\n",
       "  </tbody>\n",
       "</table>\n",
       "</div>"
      ],
      "text/plain": [
       "            amount  adult/children_no\n",
       "count   600.000000         350.000000\n",
       "mean   2442.500000           2.648571\n",
       "std     380.594057           5.009382\n",
       "min    2000.000000           0.000000\n",
       "25%    2000.000000           0.000000\n",
       "50%    2500.000000           2.000000\n",
       "75%    2500.000000           3.000000\n",
       "max    3000.000000          50.000000"
      ]
     },
     "execution_count": 11,
     "metadata": {},
     "output_type": "execute_result"
    }
   ],
   "source": [
    "adults_df.describe()"
   ]
  },
  {
   "cell_type": "code",
   "execution_count": 12,
   "id": "8b7e1a73",
   "metadata": {},
   "outputs": [
    {
     "data": {
      "text/plain": [
       "600"
      ]
     },
     "execution_count": 12,
     "metadata": {},
     "output_type": "execute_result"
    }
   ],
   "source": [
    "len(adults_df)"
   ]
  },
  {
   "cell_type": "markdown",
   "id": "1d724254",
   "metadata": {},
   "source": [
    "## Renaming Column"
   ]
  },
  {
   "cell_type": "code",
   "execution_count": 13,
   "id": "02054945",
   "metadata": {},
   "outputs": [
    {
     "data": {
      "text/plain": [
       "Index(['adult/id', 'adult_ticket_order_number', 'type_of_ticket', 'amount',\n",
       "       'attended', 'isOwner', 'adult/children_no', 'adult/createdAt',\n",
       "       'adult/updatedAt'],\n",
       "      dtype='object')"
      ]
     },
     "execution_count": 13,
     "metadata": {},
     "output_type": "execute_result"
    }
   ],
   "source": [
    "adults_df.columns"
   ]
  },
  {
   "cell_type": "code",
   "execution_count": 14,
   "id": "d531aeed",
   "metadata": {},
   "outputs": [],
   "source": [
    "adults_df.rename(columns = {\n",
    "    'adult/id':\"Adult ID\",\n",
    "    'adult_ticket_order_number':\"Ticket Number\",\n",
    "    'type_of_ticket':\"Type of Ticket\",\n",
    "    'amount':\"Amount\",\n",
    "    'attended':\"Attended Event or Not\",\n",
    "    'adult/children_no':\"Children Registered\",\n",
    "    'adult/createdAt':\"Created\",\n",
    "    'adult/updatedAt':\"Updated\"\n",
    "}, inplace = True)"
   ]
  },
  {
   "cell_type": "code",
   "execution_count": 15,
   "id": "055772d0",
   "metadata": {},
   "outputs": [],
   "source": [
    "adults_df.rename(columns = {\n",
    "    'Number of Children Registered':\"Children Registered\"\n",
    "}, inplace = True)"
   ]
  },
  {
   "cell_type": "code",
   "execution_count": 16,
   "id": "61583dd6",
   "metadata": {},
   "outputs": [],
   "source": [
    "adults_df.rename(columns = {\n",
    "    'Adult ID':\"Adult_ID\",\n",
    "    'Ticket Number':\"Ticket_Number\",\n",
    "    'Type of Ticket':\"Type_of_Ticket\",\n",
    "    'Attended Event or Not':\"Attended\",\n",
    "    'Children Registered':\"Children_No\"\n",
    "}, inplace = True)"
   ]
  },
  {
   "cell_type": "code",
   "execution_count": 17,
   "id": "d31c2979",
   "metadata": {},
   "outputs": [
    {
     "data": {
      "text/html": [
       "<div>\n",
       "<style scoped>\n",
       "    .dataframe tbody tr th:only-of-type {\n",
       "        vertical-align: middle;\n",
       "    }\n",
       "\n",
       "    .dataframe tbody tr th {\n",
       "        vertical-align: top;\n",
       "    }\n",
       "\n",
       "    .dataframe thead th {\n",
       "        text-align: right;\n",
       "    }\n",
       "</style>\n",
       "<table border=\"1\" class=\"dataframe\">\n",
       "  <thead>\n",
       "    <tr style=\"text-align: right;\">\n",
       "      <th></th>\n",
       "      <th>Adult_ID</th>\n",
       "      <th>Ticket_Number</th>\n",
       "      <th>Type_of_Ticket</th>\n",
       "      <th>Amount</th>\n",
       "      <th>Attended</th>\n",
       "      <th>isOwner</th>\n",
       "      <th>Children_No</th>\n",
       "      <th>Created</th>\n",
       "      <th>Updated</th>\n",
       "    </tr>\n",
       "  </thead>\n",
       "  <tbody>\n",
       "    <tr>\n",
       "      <th>0</th>\n",
       "      <td>490e48f1-2251-490d-b522-5a71a6a33f83</td>\n",
       "      <td>SF/ORNo/LFM31</td>\n",
       "      <td>group</td>\n",
       "      <td>2500</td>\n",
       "      <td>False</td>\n",
       "      <td>False</td>\n",
       "      <td>NaN</td>\n",
       "      <td>2023-07-20T14:46:59.000Z</td>\n",
       "      <td>2023-07-20T14:46:59.000Z</td>\n",
       "    </tr>\n",
       "    <tr>\n",
       "      <th>1</th>\n",
       "      <td>18ca177e-bd62-42b7-bb56-3d53c439e9a5</td>\n",
       "      <td>SF/ORNo/L5CYN</td>\n",
       "      <td>individual</td>\n",
       "      <td>3000</td>\n",
       "      <td>False</td>\n",
       "      <td>False</td>\n",
       "      <td>NaN</td>\n",
       "      <td>2023-07-21T18:40:23.000Z</td>\n",
       "      <td>2023-07-21T18:40:23.000Z</td>\n",
       "    </tr>\n",
       "    <tr>\n",
       "      <th>2</th>\n",
       "      <td>d2b1484d-6c51-4065-bc5f-d41935bde7fa</td>\n",
       "      <td>SFF/ORNo/00115</td>\n",
       "      <td>group</td>\n",
       "      <td>2500</td>\n",
       "      <td>False</td>\n",
       "      <td>True</td>\n",
       "      <td>4.0</td>\n",
       "      <td>2023-07-14T12:34:50.000Z</td>\n",
       "      <td>2023-07-20T20:44:32.000Z</td>\n",
       "    </tr>\n",
       "    <tr>\n",
       "      <th>3</th>\n",
       "      <td>a222eda3-519f-4803-924d-4c1727328ef8</td>\n",
       "      <td>SF/ORNo/MFOLO</td>\n",
       "      <td>group</td>\n",
       "      <td>2500</td>\n",
       "      <td>False</td>\n",
       "      <td>False</td>\n",
       "      <td>NaN</td>\n",
       "      <td>2023-07-20T18:28:22.000Z</td>\n",
       "      <td>2023-07-20T18:30:29.000Z</td>\n",
       "    </tr>\n",
       "    <tr>\n",
       "      <th>4</th>\n",
       "      <td>204d7685-c1f8-450b-a484-4d6e83201202</td>\n",
       "      <td>SF/ORNo/MPGO8</td>\n",
       "      <td>group</td>\n",
       "      <td>2500</td>\n",
       "      <td>False</td>\n",
       "      <td>False</td>\n",
       "      <td>NaN</td>\n",
       "      <td>2023-07-21T13:20:20.000Z</td>\n",
       "      <td>2023-07-21T20:58:49.000Z</td>\n",
       "    </tr>\n",
       "    <tr>\n",
       "      <th>...</th>\n",
       "      <td>...</td>\n",
       "      <td>...</td>\n",
       "      <td>...</td>\n",
       "      <td>...</td>\n",
       "      <td>...</td>\n",
       "      <td>...</td>\n",
       "      <td>...</td>\n",
       "      <td>...</td>\n",
       "      <td>...</td>\n",
       "    </tr>\n",
       "    <tr>\n",
       "      <th>595</th>\n",
       "      <td>06ed2557-7e25-4a7c-a536-3007438aea48</td>\n",
       "      <td>SFF/ORNo/00535</td>\n",
       "      <td>group</td>\n",
       "      <td>2000</td>\n",
       "      <td>False</td>\n",
       "      <td>True</td>\n",
       "      <td>1.0</td>\n",
       "      <td>2023-07-20T19:00:02.000Z</td>\n",
       "      <td>2023-07-20T19:32:20.000Z</td>\n",
       "    </tr>\n",
       "    <tr>\n",
       "      <th>596</th>\n",
       "      <td>4336c952-c90d-47ed-880b-072f95f62e2c</td>\n",
       "      <td>SFF/ORNo/00271</td>\n",
       "      <td>group</td>\n",
       "      <td>2000</td>\n",
       "      <td>True</td>\n",
       "      <td>True</td>\n",
       "      <td>4.0</td>\n",
       "      <td>2023-07-20T19:00:05.000Z</td>\n",
       "      <td>2023-07-22T09:59:58.000Z</td>\n",
       "    </tr>\n",
       "    <tr>\n",
       "      <th>597</th>\n",
       "      <td>ae9f63b5-bb4a-4660-8345-4a2cbbbd4775</td>\n",
       "      <td>SFF/ORNo/00163</td>\n",
       "      <td>group</td>\n",
       "      <td>2500</td>\n",
       "      <td>True</td>\n",
       "      <td>False</td>\n",
       "      <td>0.0</td>\n",
       "      <td>2023-07-15T17:26:53.000Z</td>\n",
       "      <td>2023-07-15T17:26:53.000Z</td>\n",
       "    </tr>\n",
       "    <tr>\n",
       "      <th>598</th>\n",
       "      <td>bbc46dc5-9f2f-4ed4-8fd9-ff2ebab650a5</td>\n",
       "      <td>SF/ORNo/AZFR6</td>\n",
       "      <td>group</td>\n",
       "      <td>2500</td>\n",
       "      <td>False</td>\n",
       "      <td>False</td>\n",
       "      <td>NaN</td>\n",
       "      <td>2023-07-20T21:06:40.000Z</td>\n",
       "      <td>2023-07-20T21:09:59.000Z</td>\n",
       "    </tr>\n",
       "    <tr>\n",
       "      <th>599</th>\n",
       "      <td>873098af-fefd-4380-b6b6-fb94f13cd6dc</td>\n",
       "      <td>SF/ORNo/LKQL9</td>\n",
       "      <td>group</td>\n",
       "      <td>2500</td>\n",
       "      <td>False</td>\n",
       "      <td>False</td>\n",
       "      <td>NaN</td>\n",
       "      <td>2023-07-21T14:30:24.000Z</td>\n",
       "      <td>2023-07-21T15:40:44.000Z</td>\n",
       "    </tr>\n",
       "  </tbody>\n",
       "</table>\n",
       "<p>600 rows × 9 columns</p>\n",
       "</div>"
      ],
      "text/plain": [
       "                                 Adult_ID   Ticket_Number Type_of_Ticket  \\\n",
       "0    490e48f1-2251-490d-b522-5a71a6a33f83   SF/ORNo/LFM31          group   \n",
       "1    18ca177e-bd62-42b7-bb56-3d53c439e9a5   SF/ORNo/L5CYN     individual   \n",
       "2    d2b1484d-6c51-4065-bc5f-d41935bde7fa  SFF/ORNo/00115          group   \n",
       "3    a222eda3-519f-4803-924d-4c1727328ef8   SF/ORNo/MFOLO          group   \n",
       "4    204d7685-c1f8-450b-a484-4d6e83201202   SF/ORNo/MPGO8          group   \n",
       "..                                    ...             ...            ...   \n",
       "595  06ed2557-7e25-4a7c-a536-3007438aea48  SFF/ORNo/00535          group   \n",
       "596  4336c952-c90d-47ed-880b-072f95f62e2c  SFF/ORNo/00271          group   \n",
       "597  ae9f63b5-bb4a-4660-8345-4a2cbbbd4775  SFF/ORNo/00163          group   \n",
       "598  bbc46dc5-9f2f-4ed4-8fd9-ff2ebab650a5   SF/ORNo/AZFR6          group   \n",
       "599  873098af-fefd-4380-b6b6-fb94f13cd6dc   SF/ORNo/LKQL9          group   \n",
       "\n",
       "     Amount  Attended  isOwner  Children_No                   Created  \\\n",
       "0      2500     False    False          NaN  2023-07-20T14:46:59.000Z   \n",
       "1      3000     False    False          NaN  2023-07-21T18:40:23.000Z   \n",
       "2      2500     False     True          4.0  2023-07-14T12:34:50.000Z   \n",
       "3      2500     False    False          NaN  2023-07-20T18:28:22.000Z   \n",
       "4      2500     False    False          NaN  2023-07-21T13:20:20.000Z   \n",
       "..      ...       ...      ...          ...                       ...   \n",
       "595    2000     False     True          1.0  2023-07-20T19:00:02.000Z   \n",
       "596    2000      True     True          4.0  2023-07-20T19:00:05.000Z   \n",
       "597    2500      True    False          0.0  2023-07-15T17:26:53.000Z   \n",
       "598    2500     False    False          NaN  2023-07-20T21:06:40.000Z   \n",
       "599    2500     False    False          NaN  2023-07-21T14:30:24.000Z   \n",
       "\n",
       "                      Updated  \n",
       "0    2023-07-20T14:46:59.000Z  \n",
       "1    2023-07-21T18:40:23.000Z  \n",
       "2    2023-07-20T20:44:32.000Z  \n",
       "3    2023-07-20T18:30:29.000Z  \n",
       "4    2023-07-21T20:58:49.000Z  \n",
       "..                        ...  \n",
       "595  2023-07-20T19:32:20.000Z  \n",
       "596  2023-07-22T09:59:58.000Z  \n",
       "597  2023-07-15T17:26:53.000Z  \n",
       "598  2023-07-20T21:09:59.000Z  \n",
       "599  2023-07-21T15:40:44.000Z  \n",
       "\n",
       "[600 rows x 9 columns]"
      ]
     },
     "execution_count": 17,
     "metadata": {},
     "output_type": "execute_result"
    }
   ],
   "source": [
    "adults_df"
   ]
  },
  {
   "cell_type": "markdown",
   "id": "0adb5614",
   "metadata": {},
   "source": [
    "## Dealing with Missing Values"
   ]
  },
  {
   "cell_type": "code",
   "execution_count": 18,
   "id": "8c21b080",
   "metadata": {},
   "outputs": [],
   "source": [
    "avg_children = np.round(adults_df.Children_No.mean(),2)\n",
    "adults_df.Children_No.fillna(avg_children, inplace=True)"
   ]
  },
  {
   "cell_type": "code",
   "execution_count": 19,
   "id": "1c5cae2b",
   "metadata": {
    "scrolled": true
   },
   "outputs": [
    {
     "name": "stdout",
     "output_type": "stream",
     "text": [
      "<class 'pandas.core.frame.DataFrame'>\n",
      "RangeIndex: 600 entries, 0 to 599\n",
      "Data columns (total 9 columns):\n",
      " #   Column          Non-Null Count  Dtype  \n",
      "---  ------          --------------  -----  \n",
      " 0   Adult_ID        600 non-null    object \n",
      " 1   Ticket_Number   600 non-null    object \n",
      " 2   Type_of_Ticket  600 non-null    object \n",
      " 3   Amount          600 non-null    int64  \n",
      " 4   Attended        600 non-null    bool   \n",
      " 5   isOwner         600 non-null    bool   \n",
      " 6   Children_No     600 non-null    float64\n",
      " 7   Created         600 non-null    object \n",
      " 8   Updated         600 non-null    object \n",
      "dtypes: bool(2), float64(1), int64(1), object(5)\n",
      "memory usage: 34.1+ KB\n"
     ]
    }
   ],
   "source": [
    "adults_df.info()"
   ]
  },
  {
   "cell_type": "markdown",
   "id": "16280169",
   "metadata": {},
   "source": [
    "## Analysis"
   ]
  },
  {
   "cell_type": "markdown",
   "id": "a5d1ea1a",
   "metadata": {},
   "source": [
    "## 1. Total number of adults that purchased group and individual ticket"
   ]
  },
  {
   "cell_type": "code",
   "execution_count": 20,
   "id": "cb252b74",
   "metadata": {},
   "outputs": [
    {
     "data": {
      "image/png": "[encoded data removed]",
      "text/plain": [
       "<Figure size 432x288 with 1 Axes>"
      ]
     },
     "metadata": {
      "needs_background": "light"
     },
     "output_type": "display_data"
    }
   ],
   "source": [
    "Type_of_Ticket = adults_df.groupby ([\"Type_of_Ticket\"])[\"Type_of_Ticket\"].count().plot(kind=\"bar\")"
   ]
  },
  {
   "cell_type": "markdown",
   "id": "931f007c",
   "metadata": {},
   "source": [
    "## 2. Number of Children Registered"
   ]
  },
  {
   "cell_type": "code",
   "execution_count": 31,
   "id": "11f01127",
   "metadata": {},
   "outputs": [
    {
     "data": {
      "image/png": "[encoded data removed]",
      "text/plain": [
       "<Figure size 432x288 with 1 Axes>"
      ]
     },
     "metadata": {
      "needs_background": "light"
     },
     "output_type": "display_data"
    }
   ],
   "source": [
    "Children_registered = adults_df.groupby ([\"Children_No\"])[\"Children_No\"].count().plot(kind=\"bar\")"
   ]
  },
  {
   "cell_type": "markdown",
   "id": "2160e590",
   "metadata": {},
   "source": [
    "## 3. isOwner (True or False)"
   ]
  },
  {
   "cell_type": "code",
   "execution_count": 40,
   "id": "f0b8fe4f",
   "metadata": {},
   "outputs": [
    {
     "data": {
      "text/plain": [
       "isOwner\n",
       "False    335\n",
       "True     265\n",
       "Name: isOwner, dtype: int64"
      ]
     },
     "execution_count": 40,
     "metadata": {},
     "output_type": "execute_result"
    }
   ],
   "source": [
    "isOwner_count = adults_df.groupby(\"isOwner\")[\"isOwner\"].count()\n",
    "isOwner_count"
   ]
  },
  {
   "cell_type": "code",
   "execution_count": 41,
   "id": "925b2580",
   "metadata": {
    "scrolled": true
   },
   "outputs": [
    {
     "data": {
      "text/plain": [
       "array([335, 265], dtype=int64)"
      ]
     },
     "execution_count": 41,
     "metadata": {},
     "output_type": "execute_result"
    }
   ],
   "source": [
    "isOwner_count.values"
   ]
  },
  {
   "cell_type": "code",
   "execution_count": 59,
   "id": "57b0ac2d",
   "metadata": {},
   "outputs": [
    {
     "data": {
      "image/png": "[encoded data removed]",
      "text/plain": [
       "<Figure size 504x504 with 1 Axes>"
      ]
     },
     "metadata": {},
     "output_type": "display_data"
    }
   ],
   "source": [
    "plt.figure(figsize=(7,7))\n",
    "plt.title(\"Proportion for isOwners\")\n",
    "plt.pie(isOwner_count.values, labels=[\"False\", \"True\"],\n",
    "       autopct='%1.1f%%', textprops={'fontsize':13})\n",
    "plt.show()"
   ]
  },
  {
   "cell_type": "markdown",
   "id": "380fed8b",
   "metadata": {},
   "source": [
    "## 4. Attended (True or False)"
   ]
  },
  {
   "cell_type": "code",
   "execution_count": 56,
   "id": "ad9b6677",
   "metadata": {},
   "outputs": [
    {
     "data": {
      "text/plain": [
       "Attended\n",
       "False    490\n",
       "True     110\n",
       "Name: Attended, dtype: int64"
      ]
     },
     "execution_count": 56,
     "metadata": {},
     "output_type": "execute_result"
    }
   ],
   "source": [
    "Attended_count = adults_df.groupby(\"Attended\")[\"Attended\"].count()\n",
    "Attended_count"
   ]
  },
  {
   "cell_type": "code",
   "execution_count": 57,
   "id": "f0c5b497",
   "metadata": {},
   "outputs": [
    {
     "data": {
      "text/plain": [
       "array([490, 110], dtype=int64)"
      ]
     },
     "execution_count": 57,
     "metadata": {},
     "output_type": "execute_result"
    }
   ],
   "source": [
    "Attended_count.values"
   ]
  },
  {
   "cell_type": "code",
   "execution_count": 60,
   "id": "55d30bb1",
   "metadata": {},
   "outputs": [
    {
     "data": {
      "image/png": "[encoded data removed]",
      "text/plain": [
       "<Figure size 504x504 with 1 Axes>"
      ]
     },
     "metadata": {},
     "output_type": "display_data"
    }
   ],
   "source": [
    "plt.figure(figsize=(7,7))\n",
    "plt.title(\"Attendance Distribution\")\n",
    "plt.pie(Attended_count.values, labels=[\"False\", \"True\"],\n",
    "       autopct='%1.1f%%', textprops={'fontsize':13})\n",
    "plt.show()"
   ]
  },
  {
   "cell_type": "markdown",
   "id": "9e64dc0c",
   "metadata": {},
   "source": [
    "## 5. Amount"
   ]
  },
  {
   "cell_type": "code",
   "execution_count": 62,
   "id": "23d88a3f",
   "metadata": {},
   "outputs": [
    {
     "data": {
      "image/png": "[encoded data removed]",
      "text/plain": [
       "<Figure size 504x504 with 1 Axes>"
      ]
     },
     "metadata": {
      "needs_background": "light"
     },
     "output_type": "display_data"
    }
   ],
   "source": [
    "plt.figure(figsize=(7,7))\n",
    "sns.boxplot(x=adults_df[\"Amount\"])\n",
    "plt.title(\"Distribution of Amount\")\n",
    "plt.xlabel(\"Amount\")\n",
    "plt.show()"
   ]
  }
 ],
 "metadata": {
  "kernelspec": {
   "display_name": "Python 3 (ipykernel)",
   "language": "python",
   "name": "python3"
  },
  "language_info": {
   "codemirror_mode": {
    "name": "ipython",
    "version": 3
   },
   "file_extension": ".py",
   "mimetype": "text/x-python",
   "name": "python",
   "nbconvert_exporter": "python",
   "pygments_lexer": "ipython3",
   "version": "3.9.12"
  }
 },
 "nbformat": 4,
 "nbformat_minor": 5
}
